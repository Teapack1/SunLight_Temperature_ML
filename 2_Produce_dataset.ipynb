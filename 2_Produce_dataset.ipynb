{
 "cells": [
  {
   "cell_type": "code",
   "execution_count": null,
   "metadata": {},
   "outputs": [],
   "source": [
    "! pip install pandas numpy matplotlib seaborn"
   ]
  },
  {
   "cell_type": "code",
   "execution_count": 19,
   "metadata": {},
   "outputs": [],
   "source": [
    "import glob\n",
    "import pandas as pd\n",
    "from matplotlib import pyplot as plt\n",
    "import seaborn as sns\n",
    "import numpy as np"
   ]
  },
  {
   "cell_type": "code",
   "execution_count": 20,
   "metadata": {},
   "outputs": [],
   "source": [
    "RAW_DATASET_PATH = 'dataset_020/color_dataset*.txt'\n",
    "PROCESSED_DATASET_PATH = 'dataset_020/color_dataset_concat.csv'"
   ]
  },
  {
   "cell_type": "code",
   "execution_count": 21,
   "metadata": {},
   "outputs": [],
   "source": [
    "file_paths = glob.glob(RAW_DATASET_PATH)\n",
    "dfs = []"
   ]
  },
  {
   "cell_type": "code",
   "execution_count": 38,
   "metadata": {},
   "outputs": [],
   "source": [
    "def remove_outliers(df, column_name, batch_size = 100, hop_length_ratio = 0.5, threshold = 0.05):\n",
    "    \"\"\"\n",
    "    Function to find and remove outliers in a DataFrame. It checks values in one column and looks for an outlier\n",
    "    based on the percentage difference from the average of the batch values. If a value is more than\n",
    "    the threshold percentage different from the average, it is flagged as an outlier and removed.\n",
    "\n",
    "    :param df: A pandas DataFrame containing the dataset.\n",
    "    :param column_name: The name of the column to check for outliers.\n",
    "    :param batch_size: The number of rows in each batch.\n",
    "    :param hop_length_ratio: The ratio of the batch size to determine the hop length for overlapping batches.\n",
    "    :param threshold: The percentage difference from the average to use as a threshold for determining outliers.\n",
    "    :return: The DataFrame with outliers removed and a list of row indices that were considered outliers.\n",
    "    \"\"\"\n",
    "    outliers = []\n",
    "    hop_length = int(batch_size * hop_length_ratio)  # Determine hop length based on batch size and ratio\n",
    "    data_column = df[column_name].to_numpy()  # Extract the relevant column\n",
    "\n",
    "    # Loop over the dataset in batches with the defined hop length\n",
    "    for start in range(0, len(data_column), hop_length):\n",
    "        end = start + batch_size\n",
    "        batch = data_column[start:end]\n",
    "        mean = np.mean(batch)\n",
    "\n",
    "        # Calculate the percentage difference from the mean for each value in the batch\n",
    "        percentage_diff = np.abs((batch - mean) / mean)\n",
    "\n",
    "        # Find indices where the percentage difference is greater than the threshold\n",
    "        batch_outliers = np.where(percentage_diff > threshold)[0] + start\n",
    "        outliers.extend(batch_outliers)\n",
    "\n",
    "    # Ensure that the outlier indices are within the bounds of the data array\n",
    "    outliers = [index for index in outliers if index < len(data_column)]\n",
    "\n",
    "    # Remove duplicate indices due to overlapping batches\n",
    "    outliers = list(set(outliers))\n",
    "    \n",
    "    # Remove outliers from the DataFrame\n",
    "    clean_df = df.drop(index=outliers).reset_index(drop=True)\n",
    "\n",
    "    return clean_df, sorted(outliers)\n",
    "\n",
    "# Example call of the function (assuming 'df' is your DataFrame and 'column_name' is the column to check)\n",
    "# This will find and remove outliers in the specified column with a batch size of 5, a hop length ratio of 0.25, and a threshold of 1%\n",
    "# clean_df,\n"
   ]
  },
  {
   "cell_type": "code",
   "execution_count": 23,
   "metadata": {},
   "outputs": [],
   "source": [
    "test = pd.read_csv('dataset_020/color_dataset01.txt', sep=',', header=None, usecols=[1,2,3,4,5], names=[\"control_value\", \"R\", \"G\", \"B\", \"W\"] )"
   ]
  },
  {
   "cell_type": "code",
   "execution_count": 39,
   "metadata": {},
   "outputs": [
    {
     "name": "stdout",
     "output_type": "stream",
     "text": [
      "[0, 997, 998, 999]\n",
      "[0, 997, 998, 999]\n",
      "[0, 997, 998, 999]\n",
      "[0, 997, 998, 999]\n"
     ]
    }
   ],
   "source": [
    "outlier_rowsR = remove_outliers(df = test, column_name = \"R\", batch_size = 100, hop_length_ratio = 0.5, threshold = 0.05)[1]\n",
    "outlier_rowsG = remove_outliers(df = test, column_name = \"G\", batch_size = 100, hop_length_ratio = 0.5, threshold = 0.05)[1]\n",
    "outlier_rowsB = remove_outliers(df = test, column_name = \"B\", batch_size = 100, hop_length_ratio = 0.5, threshold = 0.1)[1]\n",
    "outlier_rowsW = remove_outliers(df = test, column_name = \"W\", batch_size = 100, hop_length_ratio = 0.5, threshold = 0.05)[1]\n",
    "print(outlier_rowsR)\n",
    "print(outlier_rowsG)\n",
    "print(outlier_rowsB)\n",
    "print(outlier_rowsW)"
   ]
  },
  {
   "cell_type": "code",
   "execution_count": 25,
   "metadata": {},
   "outputs": [],
   "source": [
    "dfs = []\n",
    "for file_path in file_paths:\n",
    "    df = pd.read_csv(file_path, sep=',', header=None, usecols=[1,2,3,4,5], names=[\"control_value\", \"R\", \"G\", \"B\", \"W\"] )\n",
    "    df = remove_outliers(df = df, column_name = \"R\", batch_size = 100, hop_length_ratio = 0.5, threshold = 0.05)[0]\n",
    "    df = remove_outliers(df = df, column_name = \"G\", batch_size = 100, hop_length_ratio = 0.5, threshold = 0.05)[0]\n",
    "    df = remove_outliers(df = df, column_name = \"B\", batch_size = 100, hop_length_ratio = 0.5, threshold = 0.1)[0]\n",
    "    df = remove_outliers(df = df, column_name = \"W\", batch_size = 100, hop_length_ratio = 0.5, threshold = 0.05)[0]\n",
    "    dfs.append(df)\n",
    "    \n",
    "final_df = pd.concat(dfs, ignore_index=True)"
   ]
  },
  {
   "cell_type": "code",
   "execution_count": 26,
   "metadata": {},
   "outputs": [
    {
     "data": {
      "text/html": [
       "<div>\n",
       "<style scoped>\n",
       "    .dataframe tbody tr th:only-of-type {\n",
       "        vertical-align: middle;\n",
       "    }\n",
       "\n",
       "    .dataframe tbody tr th {\n",
       "        vertical-align: top;\n",
       "    }\n",
       "\n",
       "    .dataframe thead th {\n",
       "        text-align: right;\n",
       "    }\n",
       "</style>\n",
       "<table border=\"1\" class=\"dataframe\">\n",
       "  <thead>\n",
       "    <tr style=\"text-align: right;\">\n",
       "      <th></th>\n",
       "      <th>control_value</th>\n",
       "      <th>R</th>\n",
       "      <th>G</th>\n",
       "      <th>B</th>\n",
       "      <th>W</th>\n",
       "    </tr>\n",
       "  </thead>\n",
       "  <tbody>\n",
       "    <tr>\n",
       "      <th>0</th>\n",
       "      <td>0.002</td>\n",
       "      <td>1332</td>\n",
       "      <td>896</td>\n",
       "      <td>672</td>\n",
       "      <td>2765</td>\n",
       "    </tr>\n",
       "    <tr>\n",
       "      <th>1</th>\n",
       "      <td>0.003</td>\n",
       "      <td>1330</td>\n",
       "      <td>894</td>\n",
       "      <td>670</td>\n",
       "      <td>2759</td>\n",
       "    </tr>\n",
       "    <tr>\n",
       "      <th>2</th>\n",
       "      <td>0.004</td>\n",
       "      <td>1329</td>\n",
       "      <td>893</td>\n",
       "      <td>670</td>\n",
       "      <td>2756</td>\n",
       "    </tr>\n",
       "    <tr>\n",
       "      <th>3</th>\n",
       "      <td>0.005</td>\n",
       "      <td>1329</td>\n",
       "      <td>892</td>\n",
       "      <td>669</td>\n",
       "      <td>2755</td>\n",
       "    </tr>\n",
       "    <tr>\n",
       "      <th>4</th>\n",
       "      <td>0.006</td>\n",
       "      <td>1329</td>\n",
       "      <td>892</td>\n",
       "      <td>669</td>\n",
       "      <td>2755</td>\n",
       "    </tr>\n",
       "    <tr>\n",
       "      <th>...</th>\n",
       "      <td>...</td>\n",
       "      <td>...</td>\n",
       "      <td>...</td>\n",
       "      <td>...</td>\n",
       "      <td>...</td>\n",
       "    </tr>\n",
       "    <tr>\n",
       "      <th>19955</th>\n",
       "      <td>0.995</td>\n",
       "      <td>8175</td>\n",
       "      <td>13192</td>\n",
       "      <td>13746</td>\n",
       "      <td>35797</td>\n",
       "    </tr>\n",
       "    <tr>\n",
       "      <th>19956</th>\n",
       "      <td>0.996</td>\n",
       "      <td>8168</td>\n",
       "      <td>13196</td>\n",
       "      <td>13758</td>\n",
       "      <td>35809</td>\n",
       "    </tr>\n",
       "    <tr>\n",
       "      <th>19957</th>\n",
       "      <td>0.997</td>\n",
       "      <td>8161</td>\n",
       "      <td>13201</td>\n",
       "      <td>13769</td>\n",
       "      <td>35819</td>\n",
       "    </tr>\n",
       "    <tr>\n",
       "      <th>19958</th>\n",
       "      <td>0.998</td>\n",
       "      <td>8160</td>\n",
       "      <td>13201</td>\n",
       "      <td>13769</td>\n",
       "      <td>35820</td>\n",
       "    </tr>\n",
       "    <tr>\n",
       "      <th>19959</th>\n",
       "      <td>0.999</td>\n",
       "      <td>8156</td>\n",
       "      <td>13205</td>\n",
       "      <td>13777</td>\n",
       "      <td>35828</td>\n",
       "    </tr>\n",
       "  </tbody>\n",
       "</table>\n",
       "<p>19960 rows × 5 columns</p>\n",
       "</div>"
      ],
      "text/plain": [
       "       control_value     R      G      B      W\n",
       "0              0.002  1332    896    672   2765\n",
       "1              0.003  1330    894    670   2759\n",
       "2              0.004  1329    893    670   2756\n",
       "3              0.005  1329    892    669   2755\n",
       "4              0.006  1329    892    669   2755\n",
       "...              ...   ...    ...    ...    ...\n",
       "19955          0.995  8175  13192  13746  35797\n",
       "19956          0.996  8168  13196  13758  35809\n",
       "19957          0.997  8161  13201  13769  35819\n",
       "19958          0.998  8160  13201  13769  35820\n",
       "19959          0.999  8156  13205  13777  35828\n",
       "\n",
       "[19960 rows x 5 columns]"
      ]
     },
     "execution_count": 26,
     "metadata": {},
     "output_type": "execute_result"
    }
   ],
   "source": [
    "final_df"
   ]
  },
  {
   "cell_type": "code",
   "execution_count": null,
   "metadata": {},
   "outputs": [],
   "source": [
    "final_df.to_csv(PROCESSED_DATASET_PATH, index=False)"
   ]
  },
  {
   "cell_type": "markdown",
   "metadata": {},
   "source": [
    "## Plot"
   ]
  },
  {
   "cell_type": "code",
   "execution_count": null,
   "metadata": {},
   "outputs": [],
   "source": [
    "dfi = final_df.reset_index()\n",
    "dfi"
   ]
  },
  {
   "cell_type": "code",
   "execution_count": null,
   "metadata": {},
   "outputs": [],
   "source": [
    "sns.set_theme(style=\"darkgrid\")\n",
    "\n",
    "plt.figure(figsize=(20,6))\n",
    "plt.title(\"Agregated full spectrum with mean and 95% confidence over the control value\", fontsize=20)\n",
    "\n",
    "sns.lineplot(data=dfi, x=\"control_value\", y=\"W\", color=\"black\", label=\"W\", linewidth=2, alpha=0.6)\n",
    "plt.xlim(0, 1)\n",
    "plt.legend(loc='upper left', fontsize=12)\n",
    "plt.show()\n",
    "\n",
    "plt.figure(figsize=(20,6))\n",
    "plt.title(\"RGB spectrums plots\", fontsize=20)\n",
    "\n",
    "sns.lineplot(data=dfi, x=\"index\", y=\"R\", color=\"red\", label=\"R\", linewidth=2, alpha=0.6)\n",
    "sns.lineplot(data=dfi, x=\"index\", y=\"G\", color=\"green\", label=\"G\",  linewidth=2, alpha=0.6)\n",
    "sns.lineplot(data=dfi, x=\"index\", y=\"B\", color=\"blue\", label=\"B\",  linewidth=2, alpha=0.6)\n",
    "\n",
    "plt.xlim(7000, 8000)\n",
    "plt.ylim(1000, 2500)\n",
    "plt.legend(loc='upper left', fontsize=12)\n",
    "plt.show()"
   ]
  },
  {
   "cell_type": "code",
   "execution_count": null,
   "metadata": {},
   "outputs": [],
   "source": [
    "plt.figure(figsize=(20,6))\n",
    "plt.title(\"Single color entries over control value\", fontsize=20)\n",
    "\n",
    "sns.scatterplot(data=dfi, x=\"control_value\", y=\"B\", color=\"black\", label=\"W\", linewidth=2, alpha=0.6)\n",
    "plt.xlim(0, 1)\n",
    "plt.legend(loc='upper left', fontsize=12)\n",
    "plt.show()"
   ]
  }
 ],
 "metadata": {
  "kernelspec": {
   "display_name": "venv",
   "language": "python",
   "name": "python3"
  },
  "language_info": {
   "codemirror_mode": {
    "name": "ipython",
    "version": 3
   },
   "file_extension": ".py",
   "mimetype": "text/x-python",
   "name": "python",
   "nbconvert_exporter": "python",
   "pygments_lexer": "ipython3",
   "version": "3.10.11"
  }
 },
 "nbformat": 4,
 "nbformat_minor": 2
}
