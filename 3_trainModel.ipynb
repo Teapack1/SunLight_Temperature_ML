{
 "cells": [
  {
   "cell_type": "code",
   "execution_count": 1,
   "metadata": {},
   "outputs": [],
   "source": [
    "import tensorflow as tf\n",
    "from sklearn.model_selection import train_test_split\n",
    "from sklearn.preprocessing import MinMaxScaler\n",
    "from keras import layers\n",
    "from keras import models\n",
    "from keras import regularizers\n",
    "import joblib\n",
    "import os\n",
    "import pandas as pd\n",
    "import matplotlib.pyplot as plt\n",
    "import seaborn as sns\n",
    "from keras.callbacks import EarlyStopping"
   ]
  },
  {
   "cell_type": "code",
   "execution_count": 2,
   "metadata": {},
   "outputs": [],
   "source": [
    "DATASET_PATH = 'dataset_020/color_dataset_concat.csv'\n",
    "MODEL_PATH = os.path.join('MODEL', 'color_model.keras')\n",
    "SCALER_PATH = os.path.join('MODEL', 'color_scaler.pkl')"
   ]
  },
  {
   "cell_type": "code",
   "execution_count": 3,
   "metadata": {},
   "outputs": [],
   "source": [
    "# Load the dataset\n",
    "df = pd.read_csv(DATASET_PATH)\n",
    "\n",
    "X = df[['R', 'G', 'B', 'W']]\n",
    "y = df['control_value']"
   ]
  },
  {
   "cell_type": "code",
   "execution_count": 4,
   "metadata": {},
   "outputs": [
    {
     "data": {
      "text/plain": [
       "['MODEL\\\\color_scaler.pkl']"
      ]
     },
     "execution_count": 4,
     "metadata": {},
     "output_type": "execute_result"
    }
   ],
   "source": [
    "scaler = MinMaxScaler()\n",
    "X_scaled = scaler.fit_transform(X)\n",
    "joblib.dump(scaler, SCALER_PATH)"
   ]
  },
  {
   "cell_type": "code",
   "execution_count": 5,
   "metadata": {},
   "outputs": [],
   "source": [
    "X_train, X_test, y_train, y_test = train_test_split(X_scaled, y, test_size=0.2, random_state=42)"
   ]
  },
  {
   "cell_type": "code",
   "execution_count": 6,
   "metadata": {},
   "outputs": [
    {
     "name": "stdout",
     "output_type": "stream",
     "text": [
      "Model: \"sequential\"\n",
      "_________________________________________________________________\n",
      " Layer (type)                Output Shape              Param #   \n",
      "=================================================================\n",
      " dense (Dense)               (None, 64)                320       \n",
      "                                                                 \n",
      " dropout (Dropout)           (None, 64)                0         \n",
      "                                                                 \n",
      " dense_1 (Dense)             (None, 32)                2080      \n",
      "                                                                 \n",
      " dropout_1 (Dropout)         (None, 32)                0         \n",
      "                                                                 \n",
      " dense_2 (Dense)             (None, 16)                528       \n",
      "                                                                 \n",
      " dense_3 (Dense)             (None, 1)                 17        \n",
      "                                                                 \n",
      "=================================================================\n",
      "Total params: 2945 (11.50 KB)\n",
      "Trainable params: 2945 (11.50 KB)\n",
      "Non-trainable params: 0 (0.00 Byte)\n",
      "_________________________________________________________________\n"
     ]
    }
   ],
   "source": [
    "model = models.Sequential([\n",
    "        layers.Dense(64, activation='relu', input_shape=(4,), \n",
    "                     kernel_regularizer=regularizers.l2(0.01)),  # L2 Regularization\n",
    "        layers.Dropout(0.3),  # Dropout for regularization\n",
    "        layers.Dense(32, activation='relu', kernel_regularizer=regularizers.l2(0.01)),\n",
    "        layers.Dropout(0.3),\n",
    "        layers.Dense(16, activation='relu', kernel_regularizer=regularizers.l2(0.01)),\n",
    "        layers.Dense(1, activation='linear')  # Linear activation for output\n",
    "    ])\n",
    "    \n",
    "model.compile(optimizer='adam', \n",
    "                loss='mean_squared_error',\n",
    "                metrics=['mean_absolute_error', 'mean_squared_error'])\n",
    "\n",
    "model.summary()"
   ]
  },
  {
   "cell_type": "code",
   "execution_count": 7,
   "metadata": {},
   "outputs": [
    {
     "name": "stdout",
     "output_type": "stream",
     "text": [
      "Epoch 1/200\n",
      "15968/15968 [==============================] - 21s 1ms/step - loss: 0.0953 - mean_absolute_error: 0.2512 - mean_squared_error: 0.0846 - val_loss: 0.0821 - val_mean_absolute_error: 0.2478 - val_mean_squared_error: 0.0821\n",
      "Epoch 2/200\n",
      "15968/15968 [==============================] - 22s 1ms/step - loss: 0.0840 - mean_absolute_error: 0.2510 - mean_squared_error: 0.0840 - val_loss: 0.0823 - val_mean_absolute_error: 0.2478 - val_mean_squared_error: 0.0823\n",
      "Epoch 3/200\n",
      "15934/15968 [============================>.] - ETA: 0s - loss: 0.0841 - mean_absolute_error: 0.2510 - mean_squared_error: 0.0841"
     ]
    }
   ],
   "source": [
    "# Create early stopping callback\n",
    "early_stopping = EarlyStopping(monitor='val_loss', patience=5, restore_best_weights=True)\n",
    "\n",
    "# Train the model\n",
    "history = model.fit(X_train, y_train, epochs=200, verbose=1, batch_size=1, validation_data=(X_test, y_test), callbacks=[early_stopping])"
   ]
  },
  {
   "cell_type": "code",
   "execution_count": null,
   "metadata": {},
   "outputs": [],
   "source": [
    "# Evaluate the model\n",
    "loss, mae, mse = model.evaluate(X_test, y_test, verbose=2)"
   ]
  },
  {
   "cell_type": "code",
   "execution_count": null,
   "metadata": {},
   "outputs": [],
   "source": [
    "plt.plot(history.history['mae'])\n",
    "plt.plot(history.history['val_mae'])\n",
    "plt.title('Model MAE')\n",
    "plt.ylabel('MAE')\n",
    "plt.xlabel('Epoch')\n",
    "plt.legend(['Train', 'Validation'], loc='upper left')\n",
    "plt.show()"
   ]
  },
  {
   "cell_type": "code",
   "execution_count": null,
   "metadata": {},
   "outputs": [],
   "source": [
    "plt.plot(history.history['loss'])\n",
    "plt.plot(history.history['val_loss'])\n",
    "plt.title('Model loss')\n",
    "plt.ylabel('loss')\n",
    "plt.xlabel('Epoch')\n",
    "plt.legend(['Train', 'Validation'], loc='upper left')\n",
    "plt.show()"
   ]
  },
  {
   "cell_type": "code",
   "execution_count": null,
   "metadata": {},
   "outputs": [],
   "source": [
    "model.save(MODEL_PATH)"
   ]
  },
  {
   "cell_type": "code",
   "execution_count": null,
   "metadata": {},
   "outputs": [],
   "source": [
    "# Use the model for prediction\n",
    "predictions = model.predict(X_test)"
   ]
  },
  {
   "cell_type": "code",
   "execution_count": null,
   "metadata": {},
   "outputs": [],
   "source": [
    "# Plot the predictions against the actual values\n",
    "sns.scatterplot(x=y_test, y=predictions.flatten())\n",
    "plt.xlabel('Actual values')\n",
    "plt.ylabel('Predicted values')\n",
    "plt.show()\n"
   ]
  },
  {
   "cell_type": "code",
   "execution_count": null,
   "metadata": {},
   "outputs": [],
   "source": [
    "X_train.shape[1]"
   ]
  },
  {
   "cell_type": "code",
   "execution_count": null,
   "metadata": {},
   "outputs": [],
   "source": [
    "import numpy as np\n",
    "import seaborn as sns\n",
    "import matplotlib.pyplot as plt\n",
    "\n",
    "# Reset the index of y_test to allow direct indexing after the train-test split\n",
    "y_test = y_test.reset_index(drop=True)\n",
    "\n",
    "# Calculate prediction errors\n",
    "errors = predictions.flatten() - y_test\n",
    "\n",
    "# Get the indices of the best and worst predictions\n",
    "best_pred_indices = np.argsort(np.abs(errors))[:10]  # Indices of the 10 best predictions\n",
    "worst_pred_indices = np.argsort(np.abs(errors))[-100:]  # Indices of the 10 worst predictions\n",
    "\n",
    "\n",
    "\n",
    "absolute_errors = np.abs(errors)\n",
    "\n",
    "best_pred_errors = absolute_errors.iloc[best_pred_indices]\n",
    "worst_pred_errors = absolute_errors.iloc[worst_pred_indices]\n",
    "\n",
    "print(\"Best Prediction Errors:\")\n",
    "for i, index in enumerate(best_pred_indices):\n",
    "    print(f\"Index: {index}, Absolute Error: {best_pred_errors.iloc[i]}\")\n",
    "\n",
    "print(\"\\nWorst Prediction Errors:\")\n",
    "for i, index in enumerate(worst_pred_indices):\n",
    "    print(f\"Index: {index}, Absolute Error: {worst_pred_errors.iloc[i]}\")\n",
    "    \n",
    "\n",
    "\n",
    "\n",
    "# Adjust your slicing here, if necessary\n",
    "slice_min = 0\n",
    "slice_max = len(y_test)  \n",
    "col_slice = 3  # The feature  to plot\n",
    "\n",
    "\n",
    "sns.set_style(\"whitegrid\")\n",
    "plt.figure(figsize=(20,12))\n",
    "plt.title(\"Predicted vs Actual\", fontsize=20)\n",
    "\n",
    "sns.scatterplot(x=y_test[slice_min:slice_max], y=X_test[slice_min:slice_max, col_slice], color=\"blue\", label=\"Actual\", linewidth=1, alpha=0.8)\n",
    "sns.scatterplot(x=predictions.flatten()[slice_min:slice_max], y=X_test[slice_min:slice_max, col_slice], color=\"orange\", label=\"Predicted\", linewidth=1, alpha=0.8)\n",
    "\n",
    "# Highlight the best predictions\n",
    "sns.scatterplot(x=y_test[best_pred_indices], y=X_test[best_pred_indices, col_slice], color=\"green\", label=\"Best Predictions\", s=100, edgecolor='black')\n",
    "\n",
    "# Highlight the worst predictions\n",
    "sns.scatterplot(x=y_test[worst_pred_indices], y=X_test[worst_pred_indices, col_slice], color=\"red\", label=\"Worst Predictions\", s=100, edgecolor='black')\n",
    "\n",
    "\n",
    "plt.xlabel('Target Control Value', color='black', fontsize=20)\n",
    "plt.ylabel('Sensor Light', color='black', fontsize=20)\n",
    "plt.legend(loc='upper right', fontsize=20)\n",
    "plt.show()\n"
   ]
  }
 ],
 "metadata": {
  "kernelspec": {
   "display_name": "venv",
   "language": "python",
   "name": "python3"
  },
  "language_info": {
   "codemirror_mode": {
    "name": "ipython",
    "version": 3
   },
   "file_extension": ".py",
   "mimetype": "text/x-python",
   "name": "python",
   "nbconvert_exporter": "python",
   "pygments_lexer": "ipython3",
   "version": "3.10.11"
  }
 },
 "nbformat": 4,
 "nbformat_minor": 2
}
